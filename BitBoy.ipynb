{
 "cells": [
  {
   "cell_type": "code",
   "execution_count": null,
   "metadata": {
    "collapsed": true
   },
   "outputs": [],
   "source": [
    "from mygrad.nnet.layers import dense, recurrent\n",
    "from mygrad.nnet.activations import relu\n",
    "from mygrad import Tensor\n"
   ]
  },
  {
   "cell_type": "code",
   "execution_count": null,
   "metadata": {
    "collapsed": true
   },
   "outputs": [],
   "source": [
    "import numpy as np\n",
    "import csv"
   ]
  },
  {
   "cell_type": "code",
   "execution_count": null,
   "metadata": {
    "collapsed": true
   },
   "outputs": [],
   "source": [
    "def unzip(l):\n",
    "    return zip(*l)"
   ]
  },
  {
   "cell_type": "code",
   "execution_count": null,
   "metadata": {
    "collapsed": true
   },
   "outputs": [],
   "source": [
    "#Gets data from bitfinex exchange\n",
    "with open(\"./bitstampUSD.csv\", mode='r') as q:\n",
    "    data=[]\n",
    "    File=csv.reader(q, delimiter=',')\n",
    "    for line in File:\n",
    "        data.append(line)\n",
    "\n",
    "        \n",
    " \n"
   ]
  },
  {
   "cell_type": "code",
   "execution_count": null,
   "metadata": {
    "collapsed": true
   },
   "outputs": [],
   "source": []
  },
  {
   "cell_type": "code",
   "execution_count": null,
   "metadata": {
    "collapsed": true
   },
   "outputs": [],
   "source": [
    "print(data[-1])"
   ]
  },
  {
   "cell_type": "code",
   "execution_count": null,
   "metadata": {
    "collapsed": true
   },
   "outputs": [],
   "source": [
    "timePriceVolume=list(unzip(data))\n"
   ]
  },
  {
   "cell_type": "code",
   "execution_count": null,
   "metadata": {
    "collapsed": true
   },
   "outputs": [],
   "source": []
  },
  {
   "cell_type": "code",
   "execution_count": null,
   "metadata": {
    "collapsed": true
   },
   "outputs": [],
   "source": [
    "time=timePriceVolume[0]\n",
    "price=timePriceVolume[1]\n",
    "volume=timePriceVolume[2]"
   ]
  },
  {
   "cell_type": "code",
   "execution_count": null,
   "metadata": {
    "collapsed": true
   },
   "outputs": [],
   "source": [
    "time=np.array(time,dtype=int)\n",
    "price=np.array(price,dtype=float)\n",
    "volume=np.array(volume,dtype=float)"
   ]
  },
  {
   "cell_type": "code",
   "execution_count": null,
   "metadata": {
    "collapsed": true
   },
   "outputs": [],
   "source": [
    "def get_average_price(time,price,volume):\n",
    "    tprice=np.reshape(price[3:],(2489638,5))\n",
    "    tvol=np.reshape(volume[3:],(2489638,5))\n",
    "    voltot=np.sum(tvol,1)\n",
    "    tTime=time[3::5]\n",
    "    weightedPrice=np.einsum('ij,ij->i', tprice, tvol)/voltot\n",
    "    return (weightedPrice, tTime)\n",
    "    \n",
    "    "
   ]
  },
  {
   "cell_type": "code",
   "execution_count": null,
   "metadata": {
    "collapsed": true
   },
   "outputs": [],
   "source": [
    "aPrice,Time=get_average_price(time,price,volume)"
   ]
  },
  {
   "cell_type": "code",
   "execution_count": null,
   "metadata": {
    "collapsed": true
   },
   "outputs": [],
   "source": [
    "print(aPrice[:20])\n",
    "print(price[:100])\n",
    "\n",
    "timeData=Time[-250000]\n",
    "aPriceData=aPrice[-250000:]\n",
    "price=0\n",
    "volume=0\n",
    "time=0\n",
    "data=0"
   ]
  },
  {
   "cell_type": "code",
   "execution_count": null,
   "metadata": {
    "collapsed": true
   },
   "outputs": [],
   "source": [
    "print(aPriceData.shape)"
   ]
  },
  {
   "cell_type": "code",
   "execution_count": null,
   "metadata": {
    "collapsed": true
   },
   "outputs": [],
   "source": [
    "x_train=aPriceData[:195000]\n",
    "x_val=aPriceData[195000:200000]\n",
    "x_test=aPriceData[200000:]\n"
   ]
  },
  {
   "cell_type": "code",
   "execution_count": null,
   "metadata": {
    "collapsed": true
   },
   "outputs": [],
   "source": [
    "print(x_train.shape)\n",
    "print(x_val.shape)\n",
    "print(x_test.shape)"
   ]
  },
  {
   "cell_type": "code",
   "execution_count": null,
   "metadata": {
    "collapsed": true
   },
   "outputs": [],
   "source": [
    "print(x_train[:100])"
   ]
  },
  {
   "cell_type": "code",
   "execution_count": null,
   "metadata": {
    "collapsed": true
   },
   "outputs": [],
   "source": [
    "def loss(x,y_true):\n",
    "    return (((x-y_true)**2).sum())/(len(x))\n",
    "def grad_descent(t_params,rate):\n",
    "    for w in t_params:\n",
    "        w.data-=(w.grad*rate)\n",
    "def get_reg(t_params,reg):\n",
    "    tot=0\n",
    "    for W in t_params:\n",
    "        tot=tot + reg * (W**2).sum()\n",
    "    return tot"
   ]
  },
  {
   "cell_type": "code",
   "execution_count": null,
   "metadata": {
    "collapsed": true
   },
   "outputs": [],
   "source": [
    "#Reshaping Arrays of consecutive data into clumps\n",
    "xtrain=np.copy(x_train)\n",
    "# xtrain=np.reshape(xtrain,(1950,100))\n",
    "# np.random.shuffle(xtrain)\n",
    "# xtrain=np.transpose(xtrain)\n",
    "\n"
   ]
  },
  {
   "cell_type": "code",
   "execution_count": null,
   "metadata": {
    "collapsed": true
   },
   "outputs": [],
   "source": [
    "print(xtrain.shape)"
   ]
  },
  {
   "cell_type": "code",
   "execution_count": null,
   "metadata": {
    "collapsed": true
   },
   "outputs": [],
   "source": [
    "def get_clump(xtrain,clumpSize,sentenceSize):\n",
    "    clump=[]\n",
    "    for i in range(clumpSize):\n",
    "        r=np.random.randint(0,len(xtrain)-sentenceSize)\n",
    "        clump.append(xtrain[r:r+sentenceSize])\n",
    "    clump=np.array(clump)\n",
    "    clump=np.transpose(clump)\n",
    "    clump=clump[...,np.newaxis]\n",
    "    return clump"
   ]
  },
  {
   "cell_type": "code",
   "execution_count": null,
   "metadata": {
    "collapsed": true,
    "scrolled": true
   },
   "outputs": [],
   "source": [
    "c=get_clump(xtrain,200,100)"
   ]
  },
  {
   "cell_type": "code",
   "execution_count": null,
   "metadata": {
    "collapsed": true
   },
   "outputs": [],
   "source": [
    "np.save(\"xtrain\",x_train)\n",
    "np.save(\"xval\",x_val)\n",
    "np.save(\"xtest\",x_test)\n"
   ]
  },
  {
   "cell_type": "code",
   "execution_count": null,
   "metadata": {
    "collapsed": true
   },
   "outputs": [],
   "source": [
    "x_train=np.load(\"xtrain.npy\")\n",
    "x_val=np.load(\"xval.npy\")\n",
    "x_test=np.load(\"xtest.npy\")"
   ]
  },
  {
   "cell_type": "code",
   "execution_count": null,
   "metadata": {},
   "outputs": [],
   "source": [
    "print(x_train.shape)\n",
    "print(x_val.shape)\n",
    "print(x_test.shape)"
   ]
  },
  {
   "cell_type": "code",
   "execution_count": null,
   "metadata": {
    "collapsed": true
   },
   "outputs": [],
   "source": [
    "#initailizes hyperparameters\n",
    "#where d determines the number of trainable parameters for 1st layer\n",
    "D=100\n",
    "#where c is the context (1)\n",
    "C=1 \n",
    "#where P is the size of the prediction(output)\n",
    "P=1\n",
    "#where q determines the number of trainable parameters for 2nd layer\n",
    "Q=10000\n",
    "#where O is output size(1)\n",
    "O=1\n",
    "#Learning rate\n",
    "rate=1e-7\n",
    "#Regulation strength\n",
    "reg=1e5\n",
    "#Back Propigation Level\n",
    "bp_lim=5\n",
    "#sentence size\n",
    "S=100\n",
    "#clump size\n",
    "N=200"
   ]
  },
  {
   "cell_type": "code",
   "execution_count": null,
   "metadata": {
    "collapsed": true
   },
   "outputs": [],
   "source": [
    "#intitailizing trainable parameters\n",
    "\n",
    "#DxD, where d determines the number of trainable parameters for 1st layer\n",
    "W_0=Tensor(0.001 * np.random.randn(*(D,D)))\n",
    "\n",
    "#CxD where c is the context (1)\n",
    "U_0=Tensor(0.001 * np.random.randn(*(C,D)))\n",
    "\n",
    "#DxP where P is the size of the prediction(output)\n",
    "V_0=Tensor(0.001 * np.random.randn(*(D,P)))\n",
    "\n",
    "#QxQ, where q determines the number of trainable parameters for 2nd layer\n",
    "# W_1=Tensor(0.001 * np.random.randn(*(Q,Q)))\n",
    "\n",
    "# #PxQ\n",
    "# U_1=Tensor(0.001 * np.random.randn(*(P,Q)))\n",
    "\n",
    "# #QxO where O is output size(1)\n",
    "# V_1=Tensor(0.001 * np.random.randn(*(Q,O)))\n",
    "\n",
    "#,W_1,U_1http://localhost:8888/notebooks/teamWork/etherGuy/BitBoy.ipynb#,V_1\n",
    "paramList=[W_0,U_0,V_0]"
   ]
  },
  {
   "cell_type": "code",
   "execution_count": null,
   "metadata": {},
   "outputs": [],
   "source": [
    "Loss=[]\n",
    "for i in range(400):\n",
    "    clump=get_clump(x_train,N,S)\n",
    "    HiddenDescriptor0=recurrent.simple_RNN(clump,U_0,W_0,bp_lim=bp_lim)\n",
    "    layer1=dense(HiddenDescriptor0,V_0)\n",
    "    L=(loss(layer1,np.transpose(clump))+get_reg(paramList,reg))\n",
    "    print(\"Hoowoo\")\n",
    "    L.backward()\n",
    "    print(\"WooHoo\")\n",
    "    grad_descent(paramList,rate)\n",
    "    L.null_gradients()\n",
    "    Loss.append(L.data)\n",
    "    print(V_0.shape)\n",
    "    print(i)\n",
    "    print(L.data)\n"
   ]
  },
  {
   "cell_type": "code",
   "execution_count": null,
   "metadata": {
    "collapsed": true
   },
   "outputs": [],
   "source": [
    "n=np.arange(10,dtype=float).reshape((2,5))\n",
    "tot=np.sum(n,1)\n",
    "t=-np.arange(10,dtype=float).reshape((2,5))\n",
    "print(n)\n",
    "print(tot)\n",
    "print(t)\n",
    "print(np.einsum('ij,ij->i', n, t))"
   ]
  },
  {
   "cell_type": "code",
   "execution_count": null,
   "metadata": {
    "collapsed": true
   },
   "outputs": [],
   "source": []
  },
  {
   "cell_type": "code",
   "execution_count": null,
   "metadata": {
    "collapsed": true
   },
   "outputs": [],
   "source": [
    "np.save(\"R\",V_0)\n"
   ]
  },
  {
   "cell_type": "code",
   "execution_count": null,
   "metadata": {
    "collapsed": true
   },
   "outputs": [],
   "source": [
    "r=np.load(\"R.npy\")"
   ]
  },
  {
   "cell_type": "code",
   "execution_count": null,
   "metadata": {
    "collapsed": true
   },
   "outputs": [],
   "source": [
    "print(r.shape)"
   ]
  },
  {
   "cell_type": "code",
   "execution_count": null,
   "metadata": {
    "collapsed": true
   },
   "outputs": [],
   "source": [
    "np.save(\"R\",V_0)"
   ]
  },
  {
   "cell_type": "code",
   "execution_count": null,
   "metadata": {
    "collapsed": true
   },
   "outputs": [],
   "source": [
    "r=np.load(\"R.npy\")"
   ]
  },
  {
   "cell_type": "code",
   "execution_count": null,
   "metadata": {
    "collapsed": true
   },
   "outputs": [],
   "source": [
    "print(r.shape)"
   ]
  },
  {
   "cell_type": "code",
   "execution_count": null,
   "metadata": {
    "collapsed": true
   },
   "outputs": [],
   "source": [
    "v=np.load(\"V.npy\")"
   ]
  },
  {
   "cell_type": "code",
   "execution_count": null,
   "metadata": {
    "collapsed": true
   },
   "outputs": [],
   "source": [
    "print(v.shape)"
   ]
  },
  {
   "cell_type": "code",
   "execution_count": null,
   "metadata": {
    "collapsed": true
   },
   "outputs": [],
   "source": []
  }
 ],
 "metadata": {
  "kernelspec": {
   "display_name": "Python 3",
   "language": "python",
   "name": "python3"
  },
  "language_info": {
   "codemirror_mode": {
    "name": "ipython",
    "version": 3
   },
   "file_extension": ".py",
   "mimetype": "text/x-python",
   "name": "python",
   "nbconvert_exporter": "python",
   "pygments_lexer": "ipython3",
   "version": "3.6.1"
  }
 },
 "nbformat": 4,
 "nbformat_minor": 2
}
