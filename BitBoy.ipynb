{
 "cells": [
  {
   "cell_type": "code",
   "execution_count": 1,
   "metadata": {},
   "outputs": [],
   "source": [
    "from mygrad.nnet.layers import dense, RecurrentUnit \n",
    "from mygrad.nnet.activations import relu\n",
    "from mygrad import Tensor\n"
   ]
  },
  {
   "cell_type": "code",
   "execution_count": 2,
   "metadata": {
    "collapsed": true
   },
   "outputs": [],
   "source": [
    "import numpy as np\n",
    "import csv"
   ]
  },
  {
   "cell_type": "code",
   "execution_count": 3,
   "metadata": {
    "collapsed": true
   },
   "outputs": [],
   "source": [
    "def unzip(l):\n",
    "    return zip(*l)"
   ]
  },
  {
   "cell_type": "code",
   "execution_count": 4,
   "metadata": {
    "collapsed": true
   },
   "outputs": [],
   "source": [
    "#Gets data from bitfinex exchange\n",
    "with open(\"./bitstampUSD.csv\", mode='r') as q:\n",
    "    data=[]\n",
    "    File=csv.reader(q, delimiter=',')\n",
    "    for line in File:\n",
    "        data.append(line)\n",
    "\n",
    "        \n",
    " \n"
   ]
  },
  {
   "cell_type": "code",
   "execution_count": null,
   "metadata": {},
   "outputs": [],
   "source": []
  },
  {
   "cell_type": "code",
   "execution_count": 5,
   "metadata": {},
   "outputs": [
    {
     "name": "stdout",
     "output_type": "stream",
     "text": [
      "['1500330220', '2175.000000000000', '0.330997170000']\n"
     ]
    }
   ],
   "source": [
    "print(data[-1])"
   ]
  },
  {
   "cell_type": "code",
   "execution_count": 6,
   "metadata": {
    "collapsed": true
   },
   "outputs": [],
   "source": [
    "timePriceVolume=list(unzip(data))\n"
   ]
  },
  {
   "cell_type": "code",
   "execution_count": null,
   "metadata": {
    "collapsed": true
   },
   "outputs": [],
   "source": []
  },
  {
   "cell_type": "code",
   "execution_count": 7,
   "metadata": {
    "collapsed": true
   },
   "outputs": [],
   "source": [
    "time=timePriceVolume[0]\n",
    "price=timePriceVolume[1]\n",
    "volume=timePriceVolume[2]"
   ]
  },
  {
   "cell_type": "code",
   "execution_count": 8,
   "metadata": {
    "collapsed": true
   },
   "outputs": [],
   "source": [
    "time=np.array(time,dtype=int)\n",
    "price=np.array(price,dtype=float)\n",
    "volume=np.array(volume,dtype=float)"
   ]
  },
  {
   "cell_type": "code",
   "execution_count": 9,
   "metadata": {
    "collapsed": true
   },
   "outputs": [],
   "source": [
    "def get_average_price(time,price,volume):\n",
    "    tprice=np.reshape(price[3:],(2489638,5))\n",
    "    tvol=np.reshape(volume[3:],(2489638,5))\n",
    "    voltot=np.sum(tvol,1)\n",
    "    tTime=time[3::5]\n",
    "    weightedPrice=np.einsum('ij,ij->i', tprice, tvol)/voltot\n",
    "    return (weightedPrice, tTime)\n",
    "    \n",
    "    "
   ]
  },
  {
   "cell_type": "code",
   "execution_count": 10,
   "metadata": {},
   "outputs": [
    {
     "name": "stderr",
     "output_type": "stream",
     "text": [
      "/anaconda/lib/python3.6/site-packages/ipykernel_launcher.py:6: RuntimeWarning: invalid value encountered in true_divide\n",
      "  \n"
     ]
    }
   ],
   "source": [
    "aPrice,Time=get_average_price(time,price,volume)"
   ]
  },
  {
   "cell_type": "code",
   "execution_count": 11,
   "metadata": {},
   "outputs": [
    {
     "name": "stdout",
     "output_type": "stream",
     "text": [
      "[ 5.95082231  5.72382026  5.56111985  5.62485348  5.13549632  5.06346123\n",
      "  4.86593322  4.82371087  4.90651132  5.46313716  5.5284818   5.50676045\n",
      "  5.70607488  5.69696046  5.70602647  5.73037783  5.75644634  5.79682393\n",
      "  6.06        5.94585946]\n",
      "[ 5.8   5.83  5.9   6.    5.95  5.88  5.88  5.76  5.65  5.92  5.95  5.97\n",
      "  5.58  5.54  5.62  5.57  5.55  5.56  5.57  5.61  5.65  5.72  5.61  5.52\n",
      "  5.52  5.53  5.12  5.02  5.    5.21  5.24  5.13  4.82  4.8   4.87  4.85\n",
      "  4.87  4.87  4.82  4.81  4.85  4.81  4.82  4.82  4.92  4.9   4.92  4.93\n",
      "  5.37  4.95  5.38  5.49  5.56  5.5   5.55  5.55  5.55  5.55  5.42  5.43\n",
      "  5.56  5.57  5.66  5.7   5.79  5.69  5.79  5.66  5.68  5.68  5.69  5.7\n",
      "  5.72  5.7   5.71  5.71  5.72  5.7   5.7   5.71  5.72  5.73  5.74  5.75\n",
      "  5.75  5.75  5.76  5.76  5.7   5.68  5.68  6.05  6.05  6.06  6.06  6.06\n",
      "  6.06  6.06  6.05  6.05]\n"
     ]
    }
   ],
   "source": [
    "print(aPrice[:20])\n",
    "print(price[:100])\n",
    "\n",
    "timeData=Time[-250000]\n",
    "aPriceData=aPrice[-250000:]\n",
    "price=0\n",
    "volume=0\n",
    "time=0\n",
    "data=0"
   ]
  },
  {
   "cell_type": "code",
   "execution_count": 12,
   "metadata": {},
   "outputs": [
    {
     "name": "stdout",
     "output_type": "stream",
     "text": [
      "(250000,)\n"
     ]
    }
   ],
   "source": [
    "print(aPriceData.shape)"
   ]
  },
  {
   "cell_type": "code",
   "execution_count": 13,
   "metadata": {
    "collapsed": true
   },
   "outputs": [],
   "source": [
    "x_train=aPriceData[:195000]\n",
    "x_val=aPriceData[195000:200000]\n",
    "x_test=aPriceData[200000:]\n"
   ]
  },
  {
   "cell_type": "code",
   "execution_count": 14,
   "metadata": {},
   "outputs": [
    {
     "name": "stdout",
     "output_type": "stream",
     "text": [
      "(195000,)\n",
      "(5000,)\n",
      "(50000,)\n"
     ]
    }
   ],
   "source": [
    "print(x_train.shape)\n",
    "print(x_val.shape)\n",
    "print(x_test.shape)"
   ]
  },
  {
   "cell_type": "code",
   "execution_count": 15,
   "metadata": {},
   "outputs": [
    {
     "name": "stdout",
     "output_type": "stream",
     "text": [
      "[ 1573.63168133  1574.31161724  1574.74836377  1574.78607643  1574.87149837\n",
      "  1577.024869    1579.59509828  1579.90026608  1583.44135856  1584.84092204\n",
      "  1583.94885239  1583.60917372  1582.9724752   1584.25022301  1584.86385779\n",
      "  1582.13038605  1584.48463683  1584.02050217  1583.16914723  1582.90922226\n",
      "  1583.9957872   1583.97946903  1582.26457072  1580.8         1580.52943056\n",
      "  1578.02283221  1579.6933264   1575.74776494  1575.41802513  1574.92437604\n",
      "  1575.16328929  1575.11631387  1575.2085594   1574.805       1572.63341422\n",
      "  1573.3627997   1570.64912148  1570.59940833  1573.21936711  1571.89792379\n",
      "  1573.7942594   1574.11598742  1569.91906152  1570.89626233  1572.19596914\n",
      "  1570.35839768  1568.92396668  1568.43388743  1569.41880858  1568.43\n",
      "  1568.22499375  1567.18716071  1567.21371197  1566.94226154  1565.84012391\n",
      "  1564.52586167  1566.16472277  1564.31994637  1563.79472123  1564.50660496\n",
      "  1563.22463927  1564.90569123  1564.00232632  1563.165773    1563.\n",
      "  1562.33079688  1562.06        1562.05177009  1567.70511076  1567.63246952\n",
      "  1565.32318133  1566.21417087  1563.16805386  1564.84122464  1563.09223526\n",
      "  1563.23972973  1563.26        1566.45218059  1566.29614822  1567.11635261\n",
      "  1570.20520629  1571.48706763  1569.21951198  1570.82391289  1569.95523519\n",
      "  1572.93163386  1575.01711648  1575.66479246  1573.83116072  1573.56227518\n",
      "  1573.72396405  1571.80152143  1568.82749029  1566.8700798   1565.96129222\n",
      "  1565.89029177  1566.16694338  1565.7237377   1565.35636186  1565.38354955]\n"
     ]
    }
   ],
   "source": [
    "print(x_train[:100])"
   ]
  },
  {
   "cell_type": "code",
   "execution_count": 16,
   "metadata": {
    "collapsed": true
   },
   "outputs": [],
   "source": [
    "def loss(x,y_true):\n",
    "    return (((x-y_true)**2).sum())/(len(x))\n",
    "def grad_descent(t_params,rate):\n",
    "    for w in t_params:\n",
    "        w.data-=(w.grad*rate)\n",
    "def get_reg(t_params,reg):\n",
    "    tot=0\n",
    "    for W in t_params:\n",
    "        tot=tot + reg * (W**2).sum()"
   ]
  },
  {
   "cell_type": "code",
   "execution_count": 17,
   "metadata": {
    "collapsed": true
   },
   "outputs": [],
   "source": [
    "#Reshaping Arrays of consecutive data into clumps\n",
    "xtrain=np.copy(x_train)\n",
    "# xtrain=np.reshape(xtrain,(1950,100))\n",
    "# np.random.shuffle(xtrain)\n",
    "# xtrain=np.transpose(xtrain)\n",
    "\n"
   ]
  },
  {
   "cell_type": "code",
   "execution_count": 18,
   "metadata": {},
   "outputs": [
    {
     "name": "stdout",
     "output_type": "stream",
     "text": [
      "(195000,)\n"
     ]
    }
   ],
   "source": [
    "print(xtrain.shape)"
   ]
  },
  {
   "cell_type": "code",
   "execution_count": 19,
   "metadata": {
    "collapsed": true
   },
   "outputs": [],
   "source": [
    "def get_clump(xtrain,clumpSize,sentenceSize):\n",
    "    clump=[]\n",
    "    for i in range(clumpSize):\n",
    "        r=np.random.randint(0,len(xtrain)-sentenceSize)\n",
    "        clump.append(xtrain[r:r+sentenceSize])\n",
    "    clump=np.array(clump)\n",
    "    clump=np.transpose(clump)\n",
    "    clump=clump[...,np.newaxis]\n",
    "    return clump"
   ]
  },
  {
   "cell_type": "code",
   "execution_count": 20,
   "metadata": {
    "scrolled": true
   },
   "outputs": [],
   "source": [
    "c=get_clump(xtrain,200,100)"
   ]
  },
  {
   "cell_type": "code",
   "execution_count": 21,
   "metadata": {
    "collapsed": true
   },
   "outputs": [],
   "source": [
    "#initailizes hyperparameters\n",
    "#where d determines the number of trainable parameters for 1st layer\n",
    "D=10000\n",
    "#where c is the context (1)\n",
    "C=1 \n",
    "#where P is the size of the prediction(output)\n",
    "P=1\n",
    "#where q determines the number of trainable parameters for 2nd layer\n",
    "Q=10000\n",
    "#where O is output size(1)\n",
    "O=1\n",
    "#Learning rate\n",
    "rate=1e-7\n",
    "#Regulation strength\n",
    "reg=1e5\n",
    "#Back Propigation Level\n",
    "bp_lim=20\n",
    "#sentence size\n",
    "S=100\n",
    "#clump size\n",
    "N=200"
   ]
  },
  {
   "cell_type": "code",
   "execution_count": 22,
   "metadata": {
    "collapsed": true
   },
   "outputs": [],
   "source": [
    "#intitailizing trainable parameters\n",
    "\n",
    "#DxD, where d determines the number of trainable parameters for 1st layer\n",
    "W_0=Tensor(0.001 * np.random.randn(*(D,D)))\n",
    "\n",
    "#CxD where c is the context (1)\n",
    "U_0=Tensor(0.001 * np.random.randn(*(C,D)))\n",
    "\n",
    "#DxP where P is the size of the prediction(output)\n",
    "V_0=Tensor(0.001 * np.random.randn(*(D,P)))\n",
    "\n",
    "#QxQ, where q determines the number of trainable parameters for 2nd layer\n",
    "W_1=Tensor(0.001 * np.random.randn(*(Q,Q)))\n",
    "\n",
    "#PxQ\n",
    "U_1=Tensor(0.001 * np.random.randn(*(P,Q)))\n",
    "\n",
    "#QxO where O is output size(1)\n",
    "V_1=Tensor(0.001 * np.random.randn(*(Q,O)))\n",
    "\n",
    "#,W_1,U_1,V_1\n",
    "paramList=[W_0,U_0,V_0]"
   ]
  },
  {
   "cell_type": "code",
   "execution_count": 23,
   "metadata": {
    "collapsed": true
   },
   "outputs": [],
   "source": [
    "#initailizes reccurent networks\n",
    "recurrent0=RecurrentUnit(U_0,W_0,bp_lim)\n",
    "#recurrent1=RecurrentUnit(U_1,W_1,bp_lim)\n"
   ]
  },
  {
   "cell_type": "code",
   "execution_count": null,
   "metadata": {
    "collapsed": true
   },
   "outputs": [],
   "source": [
    "def saveParams():\n",
    "    "
   ]
  },
  {
   "cell_type": "code",
   "execution_count": null,
   "metadata": {},
   "outputs": [],
   "source": [
    "Loss=[]\n",
    "for i in range(400):\n",
    "    \n",
    "    clump=get_clump(xtrain,N,S)\n",
    "    HiddenDescriptor0=recurrent0(clump)\n",
    "    layer1=dense(HiddenDescriptor0,V_0)\n",
    "#     HiddenDescriptor1=recurrent1(layer1)\n",
    "#     layer2=dense(HiddenDescriptor,V_1)\n",
    "    L=(loss(layer2,np.transpose(clump))+get_reg(paramList,reg))\n",
    "    L.backward()\n",
    "    grad_descent(paramList,rate)\n",
    "    L.null_gradients()\n",
    "    Loss.append(L.data)\n",
    "    print(i)\n",
    "    print(L.data)\n"
   ]
  },
  {
   "cell_type": "code",
   "execution_count": null,
   "metadata": {},
   "outputs": [],
   "source": [
    "n=np.arange(10,dtype=float).reshape((2,5))\n",
    "tot=np.sum(n,1)\n",
    "t=-np.arange(10,dtype=float).reshape((2,5))\n",
    "print(n)\n",
    "print(tot)\n",
    "print(t)\n",
    "print(np.einsum('ij,ij->i', n, t))"
   ]
  },
  {
   "cell_type": "code",
   "execution_count": null,
   "metadata": {},
   "outputs": [],
   "source": []
  },
  {
   "cell_type": "code",
   "execution_count": null,
   "metadata": {},
   "outputs": [],
   "source": [
    "a=np.arange(64).reshape((16,4))\n",
    "print(a)\n",
    "a=np.transpose(a)\n",
    "print(a)\n",
    "a=np.transpose(a)\n",
    "print(a)"
   ]
  },
  {
   "cell_type": "code",
   "execution_count": null,
   "metadata": {
    "collapsed": true
   },
   "outputs": [],
   "source": []
  },
  {
   "cell_type": "code",
   "execution_count": null,
   "metadata": {
    "collapsed": true
   },
   "outputs": [],
   "source": []
  },
  {
   "cell_type": "code",
   "execution_count": null,
   "metadata": {
    "collapsed": true
   },
   "outputs": [],
   "source": []
  },
  {
   "cell_type": "code",
   "execution_count": null,
   "metadata": {},
   "outputs": [],
   "source": [
    "a=np.full((3,4,5),2)\n",
    "b=np.full((5,10),1)\n",
    "print(np.dot(a,b).shape)"
   ]
  },
  {
   "cell_type": "code",
   "execution_count": null,
   "metadata": {
    "collapsed": true
   },
   "outputs": [],
   "source": []
  }
 ],
 "metadata": {
  "kernelspec": {
   "display_name": "Python 3",
   "language": "python",
   "name": "python3"
  },
  "language_info": {
   "codemirror_mode": {
    "name": "ipython",
    "version": 3
   },
   "file_extension": ".py",
   "mimetype": "text/x-python",
   "name": "python",
   "nbconvert_exporter": "python",
   "pygments_lexer": "ipython3",
   "version": "3.6.1"
  }
 },
 "nbformat": 4,
 "nbformat_minor": 2
}
